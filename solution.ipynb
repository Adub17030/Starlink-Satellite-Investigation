{
  "nbformat": 4,
  "nbformat_minor": 0,
  "metadata": {
    "colab": {
      "name": "solution.ipynb",
      "provenance": [],
      "collapsed_sections": [],
      "toc_visible": true,
      "authorship_tag": "ABX9TyOaWecI+U4kOcsUesf/NN0l",
      "include_colab_link": true
    },
    "kernelspec": {
      "name": "python3",
      "display_name": "Python 3"
    }
  },
  "cells": [
    {
      "cell_type": "markdown",
      "metadata": {
        "id": "view-in-github",
        "colab_type": "text"
      },
      "source": [
        "<a href=\"https://colab.research.google.com/github/glabib/Starlink/blob/main/solution.ipynb\" target=\"_parent\"><img src=\"https://colab.research.google.com/assets/colab-badge.svg\" alt=\"Open In Colab\"/></a>"
      ]
    },
    {
      "cell_type": "markdown",
      "metadata": {
        "id": "Kmn7XlT75iXl"
      },
      "source": [
        "## **Starlink Beam Planning**"
      ]
    },
    {
      "cell_type": "markdown",
      "metadata": {
        "id": "hBUv7yQH51hT"
      },
      "source": [
        "This Python notebook illustrates how to investigate the coverage of a set of given Starlink satellites and a set of users distributed along the globe. The existence of interfering satellites apart from the Starlink satellites set is also investigated and permissible coverage is calculated."
      ]
    },
    {
      "cell_type": "code",
      "metadata": {
        "colab": {
          "base_uri": "https://localhost:8080/"
        },
        "id": "t-gf8vXgHgxm",
        "outputId": "ee8b90ab-7dbf-4fdc-fc44-84259918839d"
      },
      "source": [
        "from google.colab import drive\r\n",
        "drive.mount('/content/drive')"
      ],
      "execution_count": null,
      "outputs": [
        {
          "output_type": "stream",
          "text": [
            "Mounted at /content/drive\n"
          ],
          "name": "stdout"
        }
      ]
    },
    {
      "cell_type": "code",
      "metadata": {
        "id": "KTZLhYhn6mJN"
      },
      "source": [
        "%%writefile solution.py\r\n",
        "\r\n",
        "#!/usr/bin/python3\r\n",
        "\r\n",
        "import argparse\r\n",
        "import sys\r\n",
        "from collections import namedtuple\r\n",
        "from math import sqrt, acos, degrees, floor"
      ],
      "execution_count": null,
      "outputs": []
    },
    {
      "cell_type": "code",
      "metadata": {
        "id": "0z6GLCb_6uJq"
      },
      "source": [
        "# A type for our 3D points.\r\n",
        "# In this scenario, units are in km.\r\n",
        "Vector3 = namedtuple('Vector3', ['x', 'y', 'z'])\r\n",
        "\r\n",
        "# Center of the earth.\r\n",
        "origin = Vector3(0,0,0)\r\n",
        "\r\n",
        "# Speed of light, km/s\r\n",
        "speed_of_light_km_s = 299792.0\r\n",
        "\r\n",
        "# Beams per satellite.\r\n",
        "beams_per_satellite = 32\r\n",
        "\r\n",
        "# List of valid beam IDs.\r\n",
        "valid_beam_ids = [str(i) for i in range(1, beams_per_satellite + 1)]\r\n",
        "\r\n",
        "# Colors per satellite.\r\n",
        "colors_per_satellite = 4\r\n",
        "color = 0\r\n",
        "\r\n",
        "# List of valid color IDs.\r\n",
        "valid_color_ids = [chr(ord('A') + i) for i in range(0, colors_per_satellite)]\r\n",
        "\r\n",
        "# Self-interference angle, degrees\r\n",
        "self_interference_max = 10.0\r\n",
        "\r\n",
        "# Non-Starlink interference angle, degrees\r\n",
        "non_starlink_interference_max = 20.0\r\n",
        "\r\n",
        "# Max user to Starlink beam angle, degrees from vertical.\r\n",
        "max_user_visible_angle = 45.0\r\n",
        "\r\n",
        "covered = [0]\r\n",
        "\r\n",
        "parser = argparse.ArgumentParser()\r\n",
        "parser.add_argument(\"-f\", help=\"provide test case filename as argument\", required=True)\r\n",
        "args = parser.parse_args()\r\n",
        "file_name = args.f\r\n"
      ],
      "execution_count": null,
      "outputs": []
    },
    {
      "cell_type": "code",
      "metadata": {
        "id": "Dx9jHWkd64qx"
      },
      "source": [
        "def read_file(filename):\r\n",
        "    # open test_case file\r\n",
        "    with open(filename) as f:\r\n",
        "        content = f.readlines()\r\n",
        "    # read each line of text file and parse.\r\n",
        "    test_cases=[]\r\n",
        "    for line in content:\r\n",
        "        # if line is \\n ignore\r\n",
        "        if line[0] == \"\\n\":\r\n",
        "            line=\"#\"\r\n",
        "        # if line is a comment ignore\r\n",
        "        li=line.strip()\r\n",
        "        if not li.startswith(\"#\"):\r\n",
        "            split_line=li.split(' ')\r\n",
        "            line_item=(split_line[0], split_line[1], split_line[2], split_line[3], split_line[4])\r\n",
        "            test_cases.append(line_item)\r\n",
        "    return test_cases"
      ],
      "execution_count": null,
      "outputs": []
    },
    {
      "cell_type": "code",
      "metadata": {
        "id": "5VzwkdAA7A4k"
      },
      "source": [
        "def read_object(object_type:str, line:str, dest:dict) -> bool:\r\n",
        "    \"\"\"\r\n",
        "    Given line, of format 'type id float float float', grabs a Vector3 from the last\r\n",
        "    three tokens and puts it into dest[id].\r\n",
        "\r\n",
        "    Returns: Success or failure.\r\n",
        "    \"\"\"\r\n",
        "    parts = line.split()\r\n",
        "    if parts[0] != object_type or len(parts) != 5:\r\n",
        "        print(\"Invalid line! \" + line)\r\n",
        "        return False\r\n",
        "    else:\r\n",
        "        ident = parts[1]\r\n",
        "        try:\r\n",
        "            x = float(parts[2])\r\n",
        "            y = float(parts[3])\r\n",
        "            z = float(parts[4])\r\n",
        "        except:\r\n",
        "            print(\"Can't parse location! \" + line)\r\n",
        "            return False\r\n",
        "\r\n",
        "        dest[ident] = Vector3(x, y, z)\r\n",
        "        return True"
      ],
      "execution_count": null,
      "outputs": []
    },
    {
      "cell_type": "code",
      "metadata": {
        "id": "SPdTw4Dj7IQR"
      },
      "source": [
        "def read_scenario(filename:str, scenario:dict) -> bool:\r\n",
        "    \"\"\"\r\n",
        "    Given a filename of a scenario file, and a dictionary to populate, populates\r\n",
        "    the dictionary with the contents of the file, doing some validation along\r\n",
        "    the way.\r\n",
        "\r\n",
        "    Returns: Success or failure.\r\n",
        "    \"\"\"\r\n",
        "\r\n",
        "    sat_count = 0\r\n",
        "    user_count = 0\r\n",
        "    interferer_count = 0\r\n",
        "\r\n",
        "    scenariofile_lines = open(filename).readlines()\r\n",
        "    scenario['sats'] = {}\r\n",
        "    scenario['users'] = {}\r\n",
        "    scenario['interferers'] = {}\r\n",
        "    for line in scenariofile_lines:\r\n",
        "        if \"#\" in line:\r\n",
        "            # Comment.\r\n",
        "            continue\r\n",
        "\r\n",
        "        elif line.strip() == \"\":\r\n",
        "            # Whitespace or empty line.\r\n",
        "            continue\r\n",
        "\r\n",
        "        elif \"interferer\" in line:\r\n",
        "            # Read a non-starlink-sat object.\r\n",
        "            if not read_object('interferer', line, scenario['interferers']):\r\n",
        "                return False\r\n",
        "            else:\r\n",
        "                interferer_count += 1\r\n",
        "\r\n",
        "        elif \"sat\" in line:\r\n",
        "            # Read a sat object.\r\n",
        "            if not read_object('sat', line, scenario['sats']):\r\n",
        "                return False\r\n",
        "            else:\r\n",
        "                sat_count += 1\r\n",
        "\r\n",
        "        elif \"user\" in line:\r\n",
        "            # Read a user object.\r\n",
        "            if not read_object('user', line, scenario['users']):\r\n",
        "                return False\r\n",
        "            else:\r\n",
        "                user_count += 1\r\n",
        "\r\n",
        "        else:\r\n",
        "            print(\"Invalid line! \" + line)\r\n",
        "            return False\r\n",
        "\r\n"
      ],
      "execution_count": null,
      "outputs": []
    },
    {
      "cell_type": "code",
      "metadata": {
        "id": "JAX7VilB7XZ2"
      },
      "source": [
        "# =========================================================================\r\n",
        "def check_interferer_interference(sat_loc: Vector3, user_loc: Vector3) -> bool:\r\n",
        "    \"\"\"\r\n",
        "    Given the scenario and the proposed solution, calculate whether any sat has\r\n",
        "    a beam that will interfere with a non-Starlink satellite by placing a beam\r\n",
        "    that the user would see as within non_starlink_interference_max of a\r\n",
        "    non-Starlink satellite.\r\n",
        "\r\n",
        "    Returns: Success or failure.\r\n",
        "    \"\"\"\r\n",
        "\r\n",
        "    # Iterate over the non-Starlink satellites.\r\n",
        "    for interferer in scenario['interferers']:\r\n",
        "        interferer_loc = scenario['interferers'][interferer]\r\n",
        "\r\n",
        "        # Calculate the angle the user sees from the Starlink to the not-Starlink.\r\n",
        "        angle = calculate_angle_degrees(user_loc, sat_loc, interferer_loc)\r\n",
        "        if angle < non_starlink_interference_max:\r\n",
        "           # Exit if this link is within the interference threshold.\r\n",
        "           return True\r\n",
        "\r\n",
        "    return False\r\n",
        "# ========================================================================="
      ],
      "execution_count": null,
      "outputs": []
    },
    {
      "cell_type": "code",
      "metadata": {
        "id": "HMv1oxYy7jLE"
      },
      "source": [
        "def calculate_angle_degrees(vertex: Vector3, point_a: Vector3, point_b: Vector3) -> float:\r\n",
        "    \"\"\"\r\n",
        "    Returns: the angle formed between point_a, the vertex, and point_b in degrees.\r\n",
        "    \"\"\"\r\n",
        "\r\n",
        "    # Calculate vectors va and vb\r\n",
        "    va = Vector3(point_a.x - vertex.x, point_a.y - vertex.y, point_a.z - vertex.z)\r\n",
        "    vb = Vector3(point_b.x - vertex.x, point_b.y - vertex.y, point_b.z - vertex.z)\r\n",
        "\r\n",
        "    # Calculate each vector's magnitude.\r\n",
        "    va_mag = sqrt( (va.x ** 2) + (va.y ** 2) + (va.z ** 2) )\r\n",
        "    vb_mag = sqrt( (vb.x ** 2) + (vb.y ** 2) + (vb.z ** 2) )\r\n",
        "\r\n",
        "    # Normalize each vector.\r\n",
        "    va_norm = Vector3(va.x / va_mag, va.y / va_mag, va.z / va_mag)\r\n",
        "    vb_norm = Vector3(vb.x / vb_mag, vb.y / vb_mag, vb.z / vb_mag)\r\n",
        "\r\n",
        "    # Calculate the dot product.\r\n",
        "    dot_product = (va_norm.x * vb_norm.x) + (va_norm.y * vb_norm.y) + (va_norm.z * vb_norm.z)\r\n",
        "\r\n",
        "    # Error can add up here. Bound the dot_product to something we can take the acos of. Scream if it's a big delta.\r\n",
        "    dot_product_bound = min(1.0, max(-1.0, dot_product))\r\n",
        "    if abs(dot_product_bound - dot_product) > 0.000001:\r\n",
        "        print(f\"dot_product: {dot_product} bounded to {dot_product_bound}\")\r\n",
        "\r\n",
        "    # Return the angle.\r\n",
        "    return degrees(acos(dot_product_bound))\r\n"
      ],
      "execution_count": null,
      "outputs": []
    },
    {
      "cell_type": "code",
      "metadata": {
        "id": "38rxuV_47s8a"
      },
      "source": [
        "def check_user_visibility(user_pos: Vector3, sat_pos: Vector3) -> bool:\r\n",
        "    \"\"\"\r\n",
        "    Given the scenario and the proposed solution, calculate whether all users\r\n",
        "    can see their assigned satellite.\r\n",
        "\r\n",
        "    Returns: Success or failure.\r\n",
        "    \"\"\"\r\n",
        "\r\n",
        "    # Get the angle, relative to the user, between the sat and the\r\n",
        "    # center of the earth.\r\n",
        "    angle = calculate_angle_degrees(user_pos, origin, sat_pos)\r\n",
        "\r\n",
        "    # User terminals are unable to form beams too far off of from vertical.\r\n",
        "    if angle <= (180.0-max_user_visible_angle):\r\n",
        "\r\n",
        "        # Elevation is relative to horizon, so subtract 90 degrees\r\n",
        "        # to convert from origin-user-sat angle to horizon-user-sat angle.\r\n",
        "        elevation = str(angle - 90)\r\n",
        "        return False\r\n",
        "\r\n",
        "    return True\r\n"
      ],
      "execution_count": null,
      "outputs": []
    },
    {
      "cell_type": "code",
      "metadata": {
        "id": "RIlaQZ4uHOUW"
      },
      "source": [
        "def check_self_interference(scenario: dict):\r\n",
        "    \"\"\"\r\n",
        "    Given the scenario and the proposed solution, calculate whether any sat has\r\n",
        "    a pair of beams with fewer than self_interference_max degrees of separation.\r\n",
        "\r\n",
        "    Returns: Success or failure.\r\n",
        "    \"\"\"\r\n",
        "    covered_index = 0\r\n",
        "\r\n",
        "    for sat in scenario['sats']:\r\n",
        "        # Get the list of beams per sat, and the sat's location.\r\n",
        "        beams = scenario['users']\r\n",
        "        beamslen = len(beams)-1\r\n",
        "\r\n",
        "        keys = list(beams.keys())\r\n",
        "\r\n",
        "        sat_loc = scenario['sats'][sat]\r\n",
        "\r\n",
        "        # Iterate over all pairs of beams.\r\n",
        "        i = 0\r\n",
        "        color = 0\r\n",
        "        count = 0\r\n",
        "        beam_count = 1\r\n",
        "        color_dict = {0: 'A', 1: 'B', 2: 'C', 3: 'D'}\r\n",
        "        while i < len(beams):\r\n",
        "            j = i + 1\r\n",
        "            while j <= len(beams):\r\n",
        "                # Get the colors of each beam, only check for\r\n",
        "                # self interference if they are the same color.\r\n",
        "                # Get the locations of each user.\r\n",
        "                user_a = beams[keys[i]]\r\n",
        "                if j == len(beams):\r\n",
        "                    user_b = Vector3(0,0,0)\r\n",
        "                else:\r\n",
        "                    user_b = beams[keys[j]]\r\n",
        "  \r\n",
        "                # Calculate angle the sat sees from one user to the other.\r\n",
        "                angle = calculate_angle_degrees(sat_loc, user_a, user_b)\r\n",
        "                if angle < self_interference_max:\r\n",
        "                    # Exit if this pair of beams interfere.\r\n",
        "                    count += 1\r\n",
        "                    if count > 1:\r\n",
        "                        color += 1\r\n",
        " \r\n",
        "                    if color > 4:\r\n",
        "                        i += 1\r\n",
        "                        j += 1\r\n",
        " \r\n",
        "                user_visibility = check_user_visibility(user_a,sat_loc)\r\n",
        "                if user_visibility == False:\r\n",
        "                    i += 1\r\n",
        "                    j += 1\r\n",
        "  \r\n",
        "                else:\r\n",
        "                    if color >= 4:\r\n",
        "                        color = 0\r\n",
        "                    interfere = check_interferer_interference(sat_loc, user_a)\r\n",
        "                    if interfere == True:\r\n",
        "                      print(f\"sat {sat} beam {i+1} user {keys[i]}\", \"Interference\")                    \r\n",
        "                    else:\r\n",
        "                        if keys[i] not in covered:\r\n",
        "                        print(f\"sat {sat} beam {beam_count} user {keys[i]} color {color_dict[color]}\")\r\n",
        "                        beam_count += 1\r\n",
        "                        covered.append(keys[i])\r\n",
        "                        if beam_count > beams_per_satellite:\r\n",
        "                          beam_count = 1\r\n",
        "                          i = len(beams)\r\n",
        "                          j = len(beams) + 1\r\n",
        "\r\n",
        "                    i += 1\r\n",
        "                    j += 1\r\n",
        "\r\n",
        "            i += 1\r\n"
      ],
      "execution_count": null,
      "outputs": []
    },
    {
      "cell_type": "code",
      "metadata": {
        "id": "TVEapQ5-Hb_r"
      },
      "source": [
        "def main() -> int:\r\n",
        "      \"\"\"\r\n",
        "      Entry point. Reads inputs, outputs solution.\r\n",
        "  \r\n",
        "      Returns: exit code.\r\n",
        "      \"\"\"\r\n",
        "  \r\n",
        "      # Read and store inputs. Some validation is done here.\r\n",
        "  \r\n",
        "      scenario = {}\r\n",
        "      # Scenario structure:\r\n",
        "      # scenario['sats'][sat_id] = position as a Vector3\r\n",
        "      # scenario['users'][user_id] = position as a Vector3\r\n",
        "      # scenario['interferers'][interferer_id] = position as a Vector3\r\n",
        "  \r\n",
        "      if not read_scenario(sys.argv[1], scenario):\r\n",
        "          return -1\r\n",
        "\r\n",
        "      result = check_self_interference(scenario)\r\n",
        "\r\n",
        "      return 0\r\n",
        " \r\n",
        "\r\n",
        " if __name__ == \"__main__\":\r\n",
        "     exit(main())\r\n"
      ],
      "execution_count": null,
      "outputs": []
    },
    {
      "cell_type": "code",
      "metadata": {
        "id": "3-1SXcOgKYJ2"
      },
      "source": [
        "%%script bash\r\n",
        "\r\n",
        "chmod 755 solution.py\r\n",
        "\r\n",
        "python solution.py -f input_scenario.txt > output_solution.txt"
      ],
      "execution_count": null,
      "outputs": []
    }
  ]
}